{
 "cells": [
  {
   "cell_type": "code",
   "execution_count": 1,
   "id": "cec9b6e0",
   "metadata": {},
   "outputs": [],
   "source": [
    "import pandas as pd\n",
    "import numpy as np"
   ]
  },
  {
   "cell_type": "code",
   "execution_count": 2,
   "id": "95c77005",
   "metadata": {},
   "outputs": [],
   "source": [
    "# ładowanie danych\n",
    "portfolio = pd.read_csv('przykladowe_portfolio.txt', sep=';')\n",
    "wskazniki = pd.read_csv('przykladowe_wskazniki.txt', sep=';')\n",
    "# usuwam jedną niepotrzebną kolumnę która mi się zrobiła przypadkowo przy tworzeniu przykładowych danych\n",
    "wskazniki.drop('Unnamed: 2', inplace=True, axis=1)"
   ]
  },
  {
   "cell_type": "code",
   "execution_count": 3,
   "id": "527cc8a3",
   "metadata": {
    "scrolled": true
   },
   "outputs": [
    {
     "data": {
      "text/html": [
       "<div>\n",
       "<style scoped>\n",
       "    .dataframe tbody tr th:only-of-type {\n",
       "        vertical-align: middle;\n",
       "    }\n",
       "\n",
       "    .dataframe tbody tr th {\n",
       "        vertical-align: top;\n",
       "    }\n",
       "\n",
       "    .dataframe thead th {\n",
       "        text-align: right;\n",
       "    }\n",
       "</style>\n",
       "<table border=\"1\" class=\"dataframe\">\n",
       "  <thead>\n",
       "    <tr style=\"text-align: right;\">\n",
       "      <th></th>\n",
       "      <th>nazwa</th>\n",
       "      <th>liczba_akcji</th>\n",
       "      <th>obecny_kurs</th>\n",
       "    </tr>\n",
       "  </thead>\n",
       "  <tbody>\n",
       "    <tr>\n",
       "      <th>0</th>\n",
       "      <td>Adobe</td>\n",
       "      <td>2</td>\n",
       "      <td>35.0</td>\n",
       "    </tr>\n",
       "    <tr>\n",
       "      <th>1</th>\n",
       "      <td>Makita</td>\n",
       "      <td>3</td>\n",
       "      <td>17.0</td>\n",
       "    </tr>\n",
       "    <tr>\n",
       "      <th>2</th>\n",
       "      <td>21 st Century Fox</td>\n",
       "      <td>4</td>\n",
       "      <td>23.0</td>\n",
       "    </tr>\n",
       "    <tr>\n",
       "      <th>3</th>\n",
       "      <td>Starbucks</td>\n",
       "      <td>5</td>\n",
       "      <td>12.0</td>\n",
       "    </tr>\n",
       "    <tr>\n",
       "      <th>4</th>\n",
       "      <td>Facebook</td>\n",
       "      <td>7</td>\n",
       "      <td>30.0</td>\n",
       "    </tr>\n",
       "    <tr>\n",
       "      <th>5</th>\n",
       "      <td>BlackBerry</td>\n",
       "      <td>2</td>\n",
       "      <td>55.0</td>\n",
       "    </tr>\n",
       "    <tr>\n",
       "      <th>6</th>\n",
       "      <td>EBay</td>\n",
       "      <td>12</td>\n",
       "      <td>11.0</td>\n",
       "    </tr>\n",
       "    <tr>\n",
       "      <th>7</th>\n",
       "      <td>Netflix</td>\n",
       "      <td>15</td>\n",
       "      <td>9.0</td>\n",
       "    </tr>\n",
       "    <tr>\n",
       "      <th>8</th>\n",
       "      <td>Moderna</td>\n",
       "      <td>3</td>\n",
       "      <td>34.0</td>\n",
       "    </tr>\n",
       "    <tr>\n",
       "      <th>9</th>\n",
       "      <td>AstraZeneca</td>\n",
       "      <td>5</td>\n",
       "      <td>14.0</td>\n",
       "    </tr>\n",
       "    <tr>\n",
       "      <th>10</th>\n",
       "      <td>Apple</td>\n",
       "      <td>4</td>\n",
       "      <td>46.0</td>\n",
       "    </tr>\n",
       "    <tr>\n",
       "      <th>11</th>\n",
       "      <td>NASDAQ</td>\n",
       "      <td>1</td>\n",
       "      <td>130.0</td>\n",
       "    </tr>\n",
       "    <tr>\n",
       "      <th>12</th>\n",
       "      <td>Garmin</td>\n",
       "      <td>29</td>\n",
       "      <td>6.0</td>\n",
       "    </tr>\n",
       "  </tbody>\n",
       "</table>\n",
       "</div>"
      ],
      "text/plain": [
       "                nazwa  liczba_akcji  obecny_kurs\n",
       "0               Adobe             2         35.0\n",
       "1              Makita             3         17.0\n",
       "2   21 st Century Fox             4         23.0\n",
       "3           Starbucks             5         12.0\n",
       "4            Facebook             7         30.0\n",
       "5          BlackBerry             2         55.0\n",
       "6                EBay            12         11.0\n",
       "7             Netflix            15          9.0\n",
       "8             Moderna             3         34.0\n",
       "9         AstraZeneca             5         14.0\n",
       "10              Apple             4         46.0\n",
       "11             NASDAQ             1        130.0\n",
       "12             Garmin            29          6.0"
      ]
     },
     "execution_count": 3,
     "metadata": {},
     "output_type": "execute_result"
    }
   ],
   "source": [
    "portfolio"
   ]
  },
  {
   "cell_type": "code",
   "execution_count": 4,
   "id": "cfebdcea",
   "metadata": {
    "scrolled": true
   },
   "outputs": [
    {
     "name": "stdout",
     "output_type": "stream",
     "text": [
      "portfolio_value 1520.0\n"
     ]
    }
   ],
   "source": [
    "# liczę wartość posiadanych akcji każdej firmy\n",
    "portfolio['wartosc'] = portfolio['liczba_akcji'] * portfolio['obecny_kurs']\n",
    "# zsumowana wartość całego portfolio przy obecnym kursie \n",
    "portfolio_value = portfolio['wartosc'].sum()\n",
    "print('portfolio_value', portfolio_value)\n",
    "# procent wartości akcji w stosunku do wartości całego portfolio\n",
    "portfolio['procent_wartosci'] = portfolio['wartosc'] / portfolio_value"
   ]
  },
  {
   "cell_type": "code",
   "execution_count": 5,
   "id": "073369d4",
   "metadata": {},
   "outputs": [
    {
     "data": {
      "text/html": [
       "<div>\n",
       "<style scoped>\n",
       "    .dataframe tbody tr th:only-of-type {\n",
       "        vertical-align: middle;\n",
       "    }\n",
       "\n",
       "    .dataframe tbody tr th {\n",
       "        vertical-align: top;\n",
       "    }\n",
       "\n",
       "    .dataframe thead th {\n",
       "        text-align: right;\n",
       "    }\n",
       "</style>\n",
       "<table border=\"1\" class=\"dataframe\">\n",
       "  <thead>\n",
       "    <tr style=\"text-align: right;\">\n",
       "      <th></th>\n",
       "      <th>nazwa</th>\n",
       "      <th>liczba_akcji</th>\n",
       "      <th>obecny_kurs</th>\n",
       "      <th>wartosc</th>\n",
       "      <th>procent_wartosci</th>\n",
       "    </tr>\n",
       "  </thead>\n",
       "  <tbody>\n",
       "    <tr>\n",
       "      <th>0</th>\n",
       "      <td>Adobe</td>\n",
       "      <td>2</td>\n",
       "      <td>35.0</td>\n",
       "      <td>70.0</td>\n",
       "      <td>0.046053</td>\n",
       "    </tr>\n",
       "    <tr>\n",
       "      <th>1</th>\n",
       "      <td>Makita</td>\n",
       "      <td>3</td>\n",
       "      <td>17.0</td>\n",
       "      <td>51.0</td>\n",
       "      <td>0.033553</td>\n",
       "    </tr>\n",
       "    <tr>\n",
       "      <th>2</th>\n",
       "      <td>21 st Century Fox</td>\n",
       "      <td>4</td>\n",
       "      <td>23.0</td>\n",
       "      <td>92.0</td>\n",
       "      <td>0.060526</td>\n",
       "    </tr>\n",
       "    <tr>\n",
       "      <th>3</th>\n",
       "      <td>Starbucks</td>\n",
       "      <td>5</td>\n",
       "      <td>12.0</td>\n",
       "      <td>60.0</td>\n",
       "      <td>0.039474</td>\n",
       "    </tr>\n",
       "    <tr>\n",
       "      <th>4</th>\n",
       "      <td>Facebook</td>\n",
       "      <td>7</td>\n",
       "      <td>30.0</td>\n",
       "      <td>210.0</td>\n",
       "      <td>0.138158</td>\n",
       "    </tr>\n",
       "    <tr>\n",
       "      <th>5</th>\n",
       "      <td>BlackBerry</td>\n",
       "      <td>2</td>\n",
       "      <td>55.0</td>\n",
       "      <td>110.0</td>\n",
       "      <td>0.072368</td>\n",
       "    </tr>\n",
       "    <tr>\n",
       "      <th>6</th>\n",
       "      <td>EBay</td>\n",
       "      <td>12</td>\n",
       "      <td>11.0</td>\n",
       "      <td>132.0</td>\n",
       "      <td>0.086842</td>\n",
       "    </tr>\n",
       "    <tr>\n",
       "      <th>7</th>\n",
       "      <td>Netflix</td>\n",
       "      <td>15</td>\n",
       "      <td>9.0</td>\n",
       "      <td>135.0</td>\n",
       "      <td>0.088816</td>\n",
       "    </tr>\n",
       "    <tr>\n",
       "      <th>8</th>\n",
       "      <td>Moderna</td>\n",
       "      <td>3</td>\n",
       "      <td>34.0</td>\n",
       "      <td>102.0</td>\n",
       "      <td>0.067105</td>\n",
       "    </tr>\n",
       "    <tr>\n",
       "      <th>9</th>\n",
       "      <td>AstraZeneca</td>\n",
       "      <td>5</td>\n",
       "      <td>14.0</td>\n",
       "      <td>70.0</td>\n",
       "      <td>0.046053</td>\n",
       "    </tr>\n",
       "    <tr>\n",
       "      <th>10</th>\n",
       "      <td>Apple</td>\n",
       "      <td>4</td>\n",
       "      <td>46.0</td>\n",
       "      <td>184.0</td>\n",
       "      <td>0.121053</td>\n",
       "    </tr>\n",
       "    <tr>\n",
       "      <th>11</th>\n",
       "      <td>NASDAQ</td>\n",
       "      <td>1</td>\n",
       "      <td>130.0</td>\n",
       "      <td>130.0</td>\n",
       "      <td>0.085526</td>\n",
       "    </tr>\n",
       "    <tr>\n",
       "      <th>12</th>\n",
       "      <td>Garmin</td>\n",
       "      <td>29</td>\n",
       "      <td>6.0</td>\n",
       "      <td>174.0</td>\n",
       "      <td>0.114474</td>\n",
       "    </tr>\n",
       "  </tbody>\n",
       "</table>\n",
       "</div>"
      ],
      "text/plain": [
       "                nazwa  liczba_akcji  obecny_kurs  wartosc  procent_wartosci\n",
       "0               Adobe             2         35.0     70.0          0.046053\n",
       "1              Makita             3         17.0     51.0          0.033553\n",
       "2   21 st Century Fox             4         23.0     92.0          0.060526\n",
       "3           Starbucks             5         12.0     60.0          0.039474\n",
       "4            Facebook             7         30.0    210.0          0.138158\n",
       "5          BlackBerry             2         55.0    110.0          0.072368\n",
       "6                EBay            12         11.0    132.0          0.086842\n",
       "7             Netflix            15          9.0    135.0          0.088816\n",
       "8             Moderna             3         34.0    102.0          0.067105\n",
       "9         AstraZeneca             5         14.0     70.0          0.046053\n",
       "10              Apple             4         46.0    184.0          0.121053\n",
       "11             NASDAQ             1        130.0    130.0          0.085526\n",
       "12             Garmin            29          6.0    174.0          0.114474"
      ]
     },
     "execution_count": 5,
     "metadata": {},
     "output_type": "execute_result"
    }
   ],
   "source": [
    "portfolio"
   ]
  },
  {
   "cell_type": "code",
   "execution_count": 6,
   "id": "d081e1fd",
   "metadata": {
    "scrolled": true
   },
   "outputs": [
    {
     "data": {
      "text/html": [
       "<div>\n",
       "<style scoped>\n",
       "    .dataframe tbody tr th:only-of-type {\n",
       "        vertical-align: middle;\n",
       "    }\n",
       "\n",
       "    .dataframe tbody tr th {\n",
       "        vertical-align: top;\n",
       "    }\n",
       "\n",
       "    .dataframe thead th {\n",
       "        text-align: right;\n",
       "    }\n",
       "</style>\n",
       "<table border=\"1\" class=\"dataframe\">\n",
       "  <thead>\n",
       "    <tr style=\"text-align: right;\">\n",
       "      <th></th>\n",
       "      <th>sredni_zysk</th>\n",
       "      <th>srednie_odchylenie</th>\n",
       "    </tr>\n",
       "  </thead>\n",
       "  <tbody>\n",
       "    <tr>\n",
       "      <th>0</th>\n",
       "      <td>0.534</td>\n",
       "      <td>5.465</td>\n",
       "    </tr>\n",
       "    <tr>\n",
       "      <th>1</th>\n",
       "      <td>-1.749</td>\n",
       "      <td>6.544</td>\n",
       "    </tr>\n",
       "    <tr>\n",
       "      <th>2</th>\n",
       "      <td>1.837</td>\n",
       "      <td>7.734</td>\n",
       "    </tr>\n",
       "    <tr>\n",
       "      <th>3</th>\n",
       "      <td>0.352</td>\n",
       "      <td>6.283</td>\n",
       "    </tr>\n",
       "    <tr>\n",
       "      <th>4</th>\n",
       "      <td>0.163</td>\n",
       "      <td>8.365</td>\n",
       "    </tr>\n",
       "    <tr>\n",
       "      <th>5</th>\n",
       "      <td>0.857</td>\n",
       "      <td>4.869</td>\n",
       "    </tr>\n",
       "    <tr>\n",
       "      <th>6</th>\n",
       "      <td>-0.874</td>\n",
       "      <td>2.134</td>\n",
       "    </tr>\n",
       "    <tr>\n",
       "      <th>7</th>\n",
       "      <td>-0.632</td>\n",
       "      <td>6.674</td>\n",
       "    </tr>\n",
       "    <tr>\n",
       "      <th>8</th>\n",
       "      <td>1.375</td>\n",
       "      <td>5.872</td>\n",
       "    </tr>\n",
       "    <tr>\n",
       "      <th>9</th>\n",
       "      <td>0.386</td>\n",
       "      <td>3.985</td>\n",
       "    </tr>\n",
       "    <tr>\n",
       "      <th>10</th>\n",
       "      <td>-1.474</td>\n",
       "      <td>7.862</td>\n",
       "    </tr>\n",
       "    <tr>\n",
       "      <th>11</th>\n",
       "      <td>0.284</td>\n",
       "      <td>4.236</td>\n",
       "    </tr>\n",
       "    <tr>\n",
       "      <th>12</th>\n",
       "      <td>1.347</td>\n",
       "      <td>8.357</td>\n",
       "    </tr>\n",
       "  </tbody>\n",
       "</table>\n",
       "</div>"
      ],
      "text/plain": [
       "    sredni_zysk  srednie_odchylenie\n",
       "0         0.534               5.465\n",
       "1        -1.749               6.544\n",
       "2         1.837               7.734\n",
       "3         0.352               6.283\n",
       "4         0.163               8.365\n",
       "5         0.857               4.869\n",
       "6        -0.874               2.134\n",
       "7        -0.632               6.674\n",
       "8         1.375               5.872\n",
       "9         0.386               3.985\n",
       "10       -1.474               7.862\n",
       "11        0.284               4.236\n",
       "12        1.347               8.357"
      ]
     },
     "execution_count": 6,
     "metadata": {},
     "output_type": "execute_result"
    }
   ],
   "source": [
    "wskazniki"
   ]
  },
  {
   "cell_type": "code",
   "execution_count": 7,
   "id": "d7813406",
   "metadata": {},
   "outputs": [
    {
     "data": {
      "text/html": [
       "<div>\n",
       "<style scoped>\n",
       "    .dataframe tbody tr th:only-of-type {\n",
       "        vertical-align: middle;\n",
       "    }\n",
       "\n",
       "    .dataframe tbody tr th {\n",
       "        vertical-align: top;\n",
       "    }\n",
       "\n",
       "    .dataframe thead th {\n",
       "        text-align: right;\n",
       "    }\n",
       "</style>\n",
       "<table border=\"1\" class=\"dataframe\">\n",
       "  <thead>\n",
       "    <tr style=\"text-align: right;\">\n",
       "      <th></th>\n",
       "      <th>nazwa</th>\n",
       "      <th>liczba_akcji</th>\n",
       "      <th>obecny_kurs</th>\n",
       "      <th>wartosc</th>\n",
       "      <th>procent_wartosci</th>\n",
       "      <th>sredni_zysk</th>\n",
       "      <th>srednie_odchylenie</th>\n",
       "    </tr>\n",
       "  </thead>\n",
       "  <tbody>\n",
       "    <tr>\n",
       "      <th>0</th>\n",
       "      <td>Adobe</td>\n",
       "      <td>2</td>\n",
       "      <td>35.0</td>\n",
       "      <td>70.0</td>\n",
       "      <td>0.046053</td>\n",
       "      <td>0.534</td>\n",
       "      <td>5.465</td>\n",
       "    </tr>\n",
       "    <tr>\n",
       "      <th>1</th>\n",
       "      <td>Makita</td>\n",
       "      <td>3</td>\n",
       "      <td>17.0</td>\n",
       "      <td>51.0</td>\n",
       "      <td>0.033553</td>\n",
       "      <td>-1.749</td>\n",
       "      <td>6.544</td>\n",
       "    </tr>\n",
       "    <tr>\n",
       "      <th>2</th>\n",
       "      <td>21 st Century Fox</td>\n",
       "      <td>4</td>\n",
       "      <td>23.0</td>\n",
       "      <td>92.0</td>\n",
       "      <td>0.060526</td>\n",
       "      <td>1.837</td>\n",
       "      <td>7.734</td>\n",
       "    </tr>\n",
       "    <tr>\n",
       "      <th>3</th>\n",
       "      <td>Starbucks</td>\n",
       "      <td>5</td>\n",
       "      <td>12.0</td>\n",
       "      <td>60.0</td>\n",
       "      <td>0.039474</td>\n",
       "      <td>0.352</td>\n",
       "      <td>6.283</td>\n",
       "    </tr>\n",
       "    <tr>\n",
       "      <th>4</th>\n",
       "      <td>Facebook</td>\n",
       "      <td>7</td>\n",
       "      <td>30.0</td>\n",
       "      <td>210.0</td>\n",
       "      <td>0.138158</td>\n",
       "      <td>0.163</td>\n",
       "      <td>8.365</td>\n",
       "    </tr>\n",
       "    <tr>\n",
       "      <th>5</th>\n",
       "      <td>BlackBerry</td>\n",
       "      <td>2</td>\n",
       "      <td>55.0</td>\n",
       "      <td>110.0</td>\n",
       "      <td>0.072368</td>\n",
       "      <td>0.857</td>\n",
       "      <td>4.869</td>\n",
       "    </tr>\n",
       "    <tr>\n",
       "      <th>6</th>\n",
       "      <td>EBay</td>\n",
       "      <td>12</td>\n",
       "      <td>11.0</td>\n",
       "      <td>132.0</td>\n",
       "      <td>0.086842</td>\n",
       "      <td>-0.874</td>\n",
       "      <td>2.134</td>\n",
       "    </tr>\n",
       "    <tr>\n",
       "      <th>7</th>\n",
       "      <td>Netflix</td>\n",
       "      <td>15</td>\n",
       "      <td>9.0</td>\n",
       "      <td>135.0</td>\n",
       "      <td>0.088816</td>\n",
       "      <td>-0.632</td>\n",
       "      <td>6.674</td>\n",
       "    </tr>\n",
       "    <tr>\n",
       "      <th>8</th>\n",
       "      <td>Moderna</td>\n",
       "      <td>3</td>\n",
       "      <td>34.0</td>\n",
       "      <td>102.0</td>\n",
       "      <td>0.067105</td>\n",
       "      <td>1.375</td>\n",
       "      <td>5.872</td>\n",
       "    </tr>\n",
       "    <tr>\n",
       "      <th>9</th>\n",
       "      <td>AstraZeneca</td>\n",
       "      <td>5</td>\n",
       "      <td>14.0</td>\n",
       "      <td>70.0</td>\n",
       "      <td>0.046053</td>\n",
       "      <td>0.386</td>\n",
       "      <td>3.985</td>\n",
       "    </tr>\n",
       "    <tr>\n",
       "      <th>10</th>\n",
       "      <td>Apple</td>\n",
       "      <td>4</td>\n",
       "      <td>46.0</td>\n",
       "      <td>184.0</td>\n",
       "      <td>0.121053</td>\n",
       "      <td>-1.474</td>\n",
       "      <td>7.862</td>\n",
       "    </tr>\n",
       "    <tr>\n",
       "      <th>11</th>\n",
       "      <td>NASDAQ</td>\n",
       "      <td>1</td>\n",
       "      <td>130.0</td>\n",
       "      <td>130.0</td>\n",
       "      <td>0.085526</td>\n",
       "      <td>0.284</td>\n",
       "      <td>4.236</td>\n",
       "    </tr>\n",
       "    <tr>\n",
       "      <th>12</th>\n",
       "      <td>Garmin</td>\n",
       "      <td>29</td>\n",
       "      <td>6.0</td>\n",
       "      <td>174.0</td>\n",
       "      <td>0.114474</td>\n",
       "      <td>1.347</td>\n",
       "      <td>8.357</td>\n",
       "    </tr>\n",
       "  </tbody>\n",
       "</table>\n",
       "</div>"
      ],
      "text/plain": [
       "                nazwa  liczba_akcji  obecny_kurs  wartosc  procent_wartosci  \\\n",
       "0               Adobe             2         35.0     70.0          0.046053   \n",
       "1              Makita             3         17.0     51.0          0.033553   \n",
       "2   21 st Century Fox             4         23.0     92.0          0.060526   \n",
       "3           Starbucks             5         12.0     60.0          0.039474   \n",
       "4            Facebook             7         30.0    210.0          0.138158   \n",
       "5          BlackBerry             2         55.0    110.0          0.072368   \n",
       "6                EBay            12         11.0    132.0          0.086842   \n",
       "7             Netflix            15          9.0    135.0          0.088816   \n",
       "8             Moderna             3         34.0    102.0          0.067105   \n",
       "9         AstraZeneca             5         14.0     70.0          0.046053   \n",
       "10              Apple             4         46.0    184.0          0.121053   \n",
       "11             NASDAQ             1        130.0    130.0          0.085526   \n",
       "12             Garmin            29          6.0    174.0          0.114474   \n",
       "\n",
       "    sredni_zysk  srednie_odchylenie  \n",
       "0         0.534               5.465  \n",
       "1        -1.749               6.544  \n",
       "2         1.837               7.734  \n",
       "3         0.352               6.283  \n",
       "4         0.163               8.365  \n",
       "5         0.857               4.869  \n",
       "6        -0.874               2.134  \n",
       "7        -0.632               6.674  \n",
       "8         1.375               5.872  \n",
       "9         0.386               3.985  \n",
       "10       -1.474               7.862  \n",
       "11        0.284               4.236  \n",
       "12        1.347               8.357  "
      ]
     },
     "execution_count": 7,
     "metadata": {},
     "output_type": "execute_result"
    }
   ],
   "source": [
    "# łączenie tabeli portfolio z tabelą wskaźniki\n",
    "portfolio = portfolio.join(wskazniki)\n",
    "portfolio"
   ]
  },
  {
   "cell_type": "code",
   "execution_count": 8,
   "id": "352f8243",
   "metadata": {},
   "outputs": [
    {
     "data": {
      "text/html": [
       "<div>\n",
       "<style scoped>\n",
       "    .dataframe tbody tr th:only-of-type {\n",
       "        vertical-align: middle;\n",
       "    }\n",
       "\n",
       "    .dataframe tbody tr th {\n",
       "        vertical-align: top;\n",
       "    }\n",
       "\n",
       "    .dataframe thead th {\n",
       "        text-align: right;\n",
       "    }\n",
       "</style>\n",
       "<table border=\"1\" class=\"dataframe\">\n",
       "  <thead>\n",
       "    <tr style=\"text-align: right;\">\n",
       "      <th></th>\n",
       "      <th>nazwa</th>\n",
       "      <th>liczba_akcji</th>\n",
       "      <th>obecny_kurs</th>\n",
       "      <th>wartosc</th>\n",
       "      <th>procent_wartosci</th>\n",
       "      <th>sredni_zysk</th>\n",
       "      <th>srednie_odchylenie</th>\n",
       "      <th>sharpe_ratio</th>\n",
       "    </tr>\n",
       "  </thead>\n",
       "  <tbody>\n",
       "    <tr>\n",
       "      <th>0</th>\n",
       "      <td>Adobe</td>\n",
       "      <td>2</td>\n",
       "      <td>35.0</td>\n",
       "      <td>70.0</td>\n",
       "      <td>0.046053</td>\n",
       "      <td>0.534</td>\n",
       "      <td>5.465</td>\n",
       "      <td>0.097713</td>\n",
       "    </tr>\n",
       "    <tr>\n",
       "      <th>1</th>\n",
       "      <td>Makita</td>\n",
       "      <td>3</td>\n",
       "      <td>17.0</td>\n",
       "      <td>51.0</td>\n",
       "      <td>0.033553</td>\n",
       "      <td>-1.749</td>\n",
       "      <td>6.544</td>\n",
       "      <td>-0.267268</td>\n",
       "    </tr>\n",
       "    <tr>\n",
       "      <th>2</th>\n",
       "      <td>21 st Century Fox</td>\n",
       "      <td>4</td>\n",
       "      <td>23.0</td>\n",
       "      <td>92.0</td>\n",
       "      <td>0.060526</td>\n",
       "      <td>1.837</td>\n",
       "      <td>7.734</td>\n",
       "      <td>0.237523</td>\n",
       "    </tr>\n",
       "    <tr>\n",
       "      <th>3</th>\n",
       "      <td>Starbucks</td>\n",
       "      <td>5</td>\n",
       "      <td>12.0</td>\n",
       "      <td>60.0</td>\n",
       "      <td>0.039474</td>\n",
       "      <td>0.352</td>\n",
       "      <td>6.283</td>\n",
       "      <td>0.056024</td>\n",
       "    </tr>\n",
       "    <tr>\n",
       "      <th>4</th>\n",
       "      <td>Facebook</td>\n",
       "      <td>7</td>\n",
       "      <td>30.0</td>\n",
       "      <td>210.0</td>\n",
       "      <td>0.138158</td>\n",
       "      <td>0.163</td>\n",
       "      <td>8.365</td>\n",
       "      <td>0.019486</td>\n",
       "    </tr>\n",
       "    <tr>\n",
       "      <th>5</th>\n",
       "      <td>BlackBerry</td>\n",
       "      <td>2</td>\n",
       "      <td>55.0</td>\n",
       "      <td>110.0</td>\n",
       "      <td>0.072368</td>\n",
       "      <td>0.857</td>\n",
       "      <td>4.869</td>\n",
       "      <td>0.176012</td>\n",
       "    </tr>\n",
       "    <tr>\n",
       "      <th>6</th>\n",
       "      <td>EBay</td>\n",
       "      <td>12</td>\n",
       "      <td>11.0</td>\n",
       "      <td>132.0</td>\n",
       "      <td>0.086842</td>\n",
       "      <td>-0.874</td>\n",
       "      <td>2.134</td>\n",
       "      <td>-0.409560</td>\n",
       "    </tr>\n",
       "    <tr>\n",
       "      <th>7</th>\n",
       "      <td>Netflix</td>\n",
       "      <td>15</td>\n",
       "      <td>9.0</td>\n",
       "      <td>135.0</td>\n",
       "      <td>0.088816</td>\n",
       "      <td>-0.632</td>\n",
       "      <td>6.674</td>\n",
       "      <td>-0.094696</td>\n",
       "    </tr>\n",
       "    <tr>\n",
       "      <th>8</th>\n",
       "      <td>Moderna</td>\n",
       "      <td>3</td>\n",
       "      <td>34.0</td>\n",
       "      <td>102.0</td>\n",
       "      <td>0.067105</td>\n",
       "      <td>1.375</td>\n",
       "      <td>5.872</td>\n",
       "      <td>0.234162</td>\n",
       "    </tr>\n",
       "    <tr>\n",
       "      <th>9</th>\n",
       "      <td>AstraZeneca</td>\n",
       "      <td>5</td>\n",
       "      <td>14.0</td>\n",
       "      <td>70.0</td>\n",
       "      <td>0.046053</td>\n",
       "      <td>0.386</td>\n",
       "      <td>3.985</td>\n",
       "      <td>0.096863</td>\n",
       "    </tr>\n",
       "    <tr>\n",
       "      <th>10</th>\n",
       "      <td>Apple</td>\n",
       "      <td>4</td>\n",
       "      <td>46.0</td>\n",
       "      <td>184.0</td>\n",
       "      <td>0.121053</td>\n",
       "      <td>-1.474</td>\n",
       "      <td>7.862</td>\n",
       "      <td>-0.187484</td>\n",
       "    </tr>\n",
       "    <tr>\n",
       "      <th>11</th>\n",
       "      <td>NASDAQ</td>\n",
       "      <td>1</td>\n",
       "      <td>130.0</td>\n",
       "      <td>130.0</td>\n",
       "      <td>0.085526</td>\n",
       "      <td>0.284</td>\n",
       "      <td>4.236</td>\n",
       "      <td>0.067044</td>\n",
       "    </tr>\n",
       "    <tr>\n",
       "      <th>12</th>\n",
       "      <td>Garmin</td>\n",
       "      <td>29</td>\n",
       "      <td>6.0</td>\n",
       "      <td>174.0</td>\n",
       "      <td>0.114474</td>\n",
       "      <td>1.347</td>\n",
       "      <td>8.357</td>\n",
       "      <td>0.161182</td>\n",
       "    </tr>\n",
       "  </tbody>\n",
       "</table>\n",
       "</div>"
      ],
      "text/plain": [
       "                nazwa  liczba_akcji  obecny_kurs  wartosc  procent_wartosci  \\\n",
       "0               Adobe             2         35.0     70.0          0.046053   \n",
       "1              Makita             3         17.0     51.0          0.033553   \n",
       "2   21 st Century Fox             4         23.0     92.0          0.060526   \n",
       "3           Starbucks             5         12.0     60.0          0.039474   \n",
       "4            Facebook             7         30.0    210.0          0.138158   \n",
       "5          BlackBerry             2         55.0    110.0          0.072368   \n",
       "6                EBay            12         11.0    132.0          0.086842   \n",
       "7             Netflix            15          9.0    135.0          0.088816   \n",
       "8             Moderna             3         34.0    102.0          0.067105   \n",
       "9         AstraZeneca             5         14.0     70.0          0.046053   \n",
       "10              Apple             4         46.0    184.0          0.121053   \n",
       "11             NASDAQ             1        130.0    130.0          0.085526   \n",
       "12             Garmin            29          6.0    174.0          0.114474   \n",
       "\n",
       "    sredni_zysk  srednie_odchylenie  sharpe_ratio  \n",
       "0         0.534               5.465      0.097713  \n",
       "1        -1.749               6.544     -0.267268  \n",
       "2         1.837               7.734      0.237523  \n",
       "3         0.352               6.283      0.056024  \n",
       "4         0.163               8.365      0.019486  \n",
       "5         0.857               4.869      0.176012  \n",
       "6        -0.874               2.134     -0.409560  \n",
       "7        -0.632               6.674     -0.094696  \n",
       "8         1.375               5.872      0.234162  \n",
       "9         0.386               3.985      0.096863  \n",
       "10       -1.474               7.862     -0.187484  \n",
       "11        0.284               4.236      0.067044  \n",
       "12        1.347               8.357      0.161182  "
      ]
     },
     "execution_count": 8,
     "metadata": {},
     "output_type": "execute_result"
    }
   ],
   "source": [
    "# licze sharpe ratio\n",
    "portfolio['sharpe_ratio'] = portfolio['sredni_zysk'] / portfolio['srednie_odchylenie']\n",
    "portfolio\n",
    "# średni zysk = expected return w filmiku\n",
    "# średnie odchylenie = standard deviation w filmiku\n",
    "# sharpe ratio to tak samo"
   ]
  },
  {
   "cell_type": "code",
   "execution_count": 9,
   "id": "bf575315",
   "metadata": {
    "scrolled": true
   },
   "outputs": [
    {
     "data": {
      "text/plain": [
       "array([[ 2.27985198e-03, -1.00328631e-03,  4.53737393e-03,\n",
       "         4.27059244e-03,  2.73560000e-03, -4.80373860e-04,\n",
       "        -2.39673059e-03, -1.94956120e-04,  4.33826214e-03,\n",
       "        -2.85941465e-04,  6.04158617e-04,  2.17944967e-03,\n",
       "         2.32226641e-03],\n",
       "       [ 4.40279229e-03, -1.35627445e-03,  4.79472438e-03,\n",
       "        -2.56333429e-03, -1.02673569e-03,  1.09458255e-03,\n",
       "         5.17305830e-04, -1.55445111e-03,  3.54453979e-03,\n",
       "         3.50684260e-03,  1.77649903e-03,  3.50117638e-03,\n",
       "         1.12116585e-03],\n",
       "       [-3.73244828e-05, -1.85847904e-03,  1.01919020e-03,\n",
       "         3.62573270e-03,  3.17833410e-03,  4.08181582e-03,\n",
       "        -7.23269776e-04, -2.22808241e-03, -2.42542189e-03,\n",
       "         3.61648306e-03,  3.18265232e-03, -5.56276524e-04,\n",
       "         3.13462870e-04],\n",
       "       [-1.43580129e-03,  2.57854211e-04, -2.27782206e-04,\n",
       "         8.98546188e-04, -2.07482944e-03, -1.88408881e-03,\n",
       "        -2.97803268e-03, -2.10025332e-03,  3.66773915e-03,\n",
       "        -2.05933800e-03,  2.26864668e-03, -9.20590227e-05,\n",
       "         6.38157441e-05],\n",
       "       [-1.58998209e-03,  3.05829443e-03,  3.77735932e-03,\n",
       "        -1.17906482e-03,  4.08045061e-03, -1.35488112e-03,\n",
       "         7.33300513e-04,  2.29372132e-03,  3.16774632e-03,\n",
       "         4.68407642e-03,  3.28113325e-03, -2.96273938e-03,\n",
       "         4.14792396e-03],\n",
       "       [ 4.20790137e-03,  1.86095074e-03, -2.99701427e-03,\n",
       "         2.79396300e-03,  4.71663484e-04, -2.09220252e-03,\n",
       "         3.18782502e-03,  4.36805409e-03,  1.81936532e-03,\n",
       "         3.36011081e-03, -5.76375160e-04,  2.34030212e-03,\n",
       "         1.58863969e-03],\n",
       "       [ 2.80796078e-04,  2.00679424e-03,  4.22078987e-03,\n",
       "         4.86322789e-03, -1.10981503e-03,  3.01458669e-03,\n",
       "        -2.94401151e-03, -1.12840028e-03,  2.22099164e-03,\n",
       "         3.77152485e-03, -1.42916518e-03,  3.91418435e-03,\n",
       "        -8.55919237e-04],\n",
       "       [-1.07863585e-03,  1.37557792e-03,  1.85840482e-03,\n",
       "        -3.59902342e-04,  2.68950414e-03,  3.48606303e-03,\n",
       "         2.10707391e-03,  3.47810774e-03,  2.46233885e-04,\n",
       "        -2.06784713e-03, -7.16754062e-04, -1.74838633e-03,\n",
       "        -3.99686709e-04],\n",
       "       [-5.49278775e-04,  2.47745843e-03,  2.86953113e-03,\n",
       "         1.89500964e-03, -1.80422752e-03, -1.72248776e-03,\n",
       "         5.96350832e-05,  1.32668575e-03, -4.22381364e-05,\n",
       "         4.02022304e-03, -2.25734839e-03, -2.77073539e-03,\n",
       "         4.95125800e-03],\n",
       "       [ 1.78255589e-03, -1.39003095e-04,  1.00776316e-03,\n",
       "         2.25176563e-03,  4.76025517e-03,  1.14497511e-03,\n",
       "        -2.02212688e-03, -2.72566987e-03,  2.91723123e-03,\n",
       "         8.64118217e-04, -1.22823366e-03, -1.95980852e-04,\n",
       "         1.34356043e-03],\n",
       "       [ 3.95972844e-03, -1.31528094e-03,  9.20023243e-04,\n",
       "        -3.74386334e-04,  3.48538770e-03, -1.04169093e-03,\n",
       "         4.39946618e-03, -2.31468310e-03,  1.72693995e-03,\n",
       "         4.00677994e-03,  2.93950582e-03,  1.75392989e-03,\n",
       "        -4.77892580e-04],\n",
       "       [ 3.12304583e-03,  4.37845359e-03, -2.66207229e-03,\n",
       "        -1.36362297e-03, -2.16710184e-03, -1.05944032e-03,\n",
       "         3.61772799e-03,  7.56533122e-04, -1.35068958e-03,\n",
       "        -2.21859188e-03, -2.34943998e-03,  9.21037541e-04,\n",
       "        -2.01247683e-04],\n",
       "       [ 1.03424142e-03,  3.20385484e-04, -2.45744195e-04,\n",
       "         3.94238946e-03,  2.71978829e-03, -1.28668332e-03,\n",
       "         3.12235255e-03,  3.69948828e-03,  4.77337864e-03,\n",
       "         3.95043614e-03,  7.40445784e-04,  1.23727685e-04,\n",
       "        -1.96514696e-04]])"
      ]
     },
     "execution_count": 9,
     "metadata": {},
     "output_type": "execute_result"
    }
   ],
   "source": [
    "# losuję przykładową macierz waiancji-kowariancji\n",
    "covariance_matrix = 0.008 * np.random.rand(13,13) - 0.003\n",
    "covariance_matrix"
   ]
  },
  {
   "cell_type": "code",
   "execution_count": 10,
   "id": "50c7b8e8",
   "metadata": {},
   "outputs": [
    {
     "data": {
      "text/plain": [
       "0.15359802631578942"
      ]
     },
     "execution_count": 10,
     "metadata": {},
     "output_type": "execute_result"
    }
   ],
   "source": [
    "# oczekiwany zwrot z portfolio\n",
    "portfolio_exp_return = (portfolio['sredni_zysk'] * portfolio['procent_wartosci']).sum()\n",
    "portfolio_exp_return"
   ]
  },
  {
   "cell_type": "code",
   "execution_count": 11,
   "id": "560e486d",
   "metadata": {},
   "outputs": [],
   "source": [
    "# zamieniam pandasową kolumnę na format akceptowany przez numpy\n",
    "weights = portfolio['procent_wartosci'].to_numpy()"
   ]
  },
  {
   "cell_type": "code",
   "execution_count": 12,
   "id": "3dc06866",
   "metadata": {},
   "outputs": [
    {
     "data": {
      "text/plain": [
       "0.0324176407518595"
      ]
     },
     "execution_count": 12,
     "metadata": {},
     "output_type": "execute_result"
    }
   ],
   "source": [
    "# odchylenie standardowe portfolio\n",
    "portfolio_std_deviation = np.sqrt(np.matmul(np.matmul(weights, covariance_matrix), weights))\n",
    "portfolio_std_deviation"
   ]
  },
  {
   "cell_type": "code",
   "execution_count": 13,
   "id": "d628de09",
   "metadata": {},
   "outputs": [
    {
     "data": {
      "text/plain": [
       "4.738100082344176"
      ]
     },
     "execution_count": 13,
     "metadata": {},
     "output_type": "execute_result"
    }
   ],
   "source": [
    "# sharpe ratio dla całego portfolio\n",
    "portfolio_sharpe_ratio = portfolio_exp_return / portfolio_std_deviation\n",
    "portfolio_sharpe_ratio"
   ]
  },
  {
   "cell_type": "markdown",
   "id": "5ecac46f",
   "metadata": {},
   "source": [
    "# Test dla danych (prawie takich samych) jak w filmiku na yt"
   ]
  },
  {
   "cell_type": "code",
   "execution_count": 44,
   "id": "78bc79fc",
   "metadata": {
    "scrolled": true
   },
   "outputs": [
    {
     "data": {
      "text/html": [
       "<div>\n",
       "<style scoped>\n",
       "    .dataframe tbody tr th:only-of-type {\n",
       "        vertical-align: middle;\n",
       "    }\n",
       "\n",
       "    .dataframe tbody tr th {\n",
       "        vertical-align: top;\n",
       "    }\n",
       "\n",
       "    .dataframe thead th {\n",
       "        text-align: right;\n",
       "    }\n",
       "</style>\n",
       "<table border=\"1\" class=\"dataframe\">\n",
       "  <thead>\n",
       "    <tr style=\"text-align: right;\">\n",
       "      <th></th>\n",
       "      <th>name</th>\n",
       "      <th>exp_ret</th>\n",
       "      <th>std_dev</th>\n",
       "      <th>weights</th>\n",
       "    </tr>\n",
       "  </thead>\n",
       "  <tbody>\n",
       "    <tr>\n",
       "      <th>0</th>\n",
       "      <td>SPY</td>\n",
       "      <td>-0.00033</td>\n",
       "      <td>0.05465</td>\n",
       "      <td>0.125</td>\n",
       "    </tr>\n",
       "    <tr>\n",
       "      <th>1</th>\n",
       "      <td>MDY</td>\n",
       "      <td>0.00235</td>\n",
       "      <td>0.06544</td>\n",
       "      <td>0.125</td>\n",
       "    </tr>\n",
       "    <tr>\n",
       "      <th>2</th>\n",
       "      <td>SLY</td>\n",
       "      <td>0.00228</td>\n",
       "      <td>0.07204</td>\n",
       "      <td>0.125</td>\n",
       "    </tr>\n",
       "    <tr>\n",
       "      <th>3</th>\n",
       "      <td>EFA</td>\n",
       "      <td>-0.00439</td>\n",
       "      <td>0.06946</td>\n",
       "      <td>0.125</td>\n",
       "    </tr>\n",
       "    <tr>\n",
       "      <th>4</th>\n",
       "      <td>EEM</td>\n",
       "      <td>0.00124</td>\n",
       "      <td>0.08707</td>\n",
       "      <td>0.125</td>\n",
       "    </tr>\n",
       "    <tr>\n",
       "      <th>5</th>\n",
       "      <td>TLT</td>\n",
       "      <td>0.00818</td>\n",
       "      <td>0.04594</td>\n",
       "      <td>0.125</td>\n",
       "    </tr>\n",
       "    <tr>\n",
       "      <th>6</th>\n",
       "      <td>LQD</td>\n",
       "      <td>0.00539</td>\n",
       "      <td>0.02858</td>\n",
       "      <td>0.125</td>\n",
       "    </tr>\n",
       "    <tr>\n",
       "      <th>7</th>\n",
       "      <td>GLD</td>\n",
       "      <td>0.01462</td>\n",
       "      <td>0.06016</td>\n",
       "      <td>0.125</td>\n",
       "    </tr>\n",
       "  </tbody>\n",
       "</table>\n",
       "</div>"
      ],
      "text/plain": [
       "  name  exp_ret  std_dev  weights\n",
       "0  SPY -0.00033  0.05465    0.125\n",
       "1  MDY  0.00235  0.06544    0.125\n",
       "2  SLY  0.00228  0.07204    0.125\n",
       "3  EFA -0.00439  0.06946    0.125\n",
       "4  EEM  0.00124  0.08707    0.125\n",
       "5  TLT  0.00818  0.04594    0.125\n",
       "6  LQD  0.00539  0.02858    0.125\n",
       "7  GLD  0.01462  0.06016    0.125"
      ]
     },
     "execution_count": 44,
     "metadata": {},
     "output_type": "execute_result"
    }
   ],
   "source": [
    "portfolio = pd.read_csv('film_portfolio.txt')\n",
    "portfolio"
   ]
  },
  {
   "cell_type": "code",
   "execution_count": 45,
   "id": "da05d8ee",
   "metadata": {
    "scrolled": true
   },
   "outputs": [
    {
     "data": {
      "text/html": [
       "<div>\n",
       "<style scoped>\n",
       "    .dataframe tbody tr th:only-of-type {\n",
       "        vertical-align: middle;\n",
       "    }\n",
       "\n",
       "    .dataframe tbody tr th {\n",
       "        vertical-align: top;\n",
       "    }\n",
       "\n",
       "    .dataframe thead th {\n",
       "        text-align: right;\n",
       "    }\n",
       "</style>\n",
       "<table border=\"1\" class=\"dataframe\">\n",
       "  <thead>\n",
       "    <tr style=\"text-align: right;\">\n",
       "      <th></th>\n",
       "      <th>name</th>\n",
       "      <th>exp_ret</th>\n",
       "      <th>std_dev</th>\n",
       "      <th>weights</th>\n",
       "      <th>sharpe_ratio</th>\n",
       "    </tr>\n",
       "  </thead>\n",
       "  <tbody>\n",
       "    <tr>\n",
       "      <th>0</th>\n",
       "      <td>SPY</td>\n",
       "      <td>-0.00033</td>\n",
       "      <td>0.05465</td>\n",
       "      <td>0.125</td>\n",
       "      <td>-0.006038</td>\n",
       "    </tr>\n",
       "    <tr>\n",
       "      <th>1</th>\n",
       "      <td>MDY</td>\n",
       "      <td>0.00235</td>\n",
       "      <td>0.06544</td>\n",
       "      <td>0.125</td>\n",
       "      <td>0.035911</td>\n",
       "    </tr>\n",
       "    <tr>\n",
       "      <th>2</th>\n",
       "      <td>SLY</td>\n",
       "      <td>0.00228</td>\n",
       "      <td>0.07204</td>\n",
       "      <td>0.125</td>\n",
       "      <td>0.031649</td>\n",
       "    </tr>\n",
       "    <tr>\n",
       "      <th>3</th>\n",
       "      <td>EFA</td>\n",
       "      <td>-0.00439</td>\n",
       "      <td>0.06946</td>\n",
       "      <td>0.125</td>\n",
       "      <td>-0.063202</td>\n",
       "    </tr>\n",
       "    <tr>\n",
       "      <th>4</th>\n",
       "      <td>EEM</td>\n",
       "      <td>0.00124</td>\n",
       "      <td>0.08707</td>\n",
       "      <td>0.125</td>\n",
       "      <td>0.014241</td>\n",
       "    </tr>\n",
       "    <tr>\n",
       "      <th>5</th>\n",
       "      <td>TLT</td>\n",
       "      <td>0.00818</td>\n",
       "      <td>0.04594</td>\n",
       "      <td>0.125</td>\n",
       "      <td>0.178058</td>\n",
       "    </tr>\n",
       "    <tr>\n",
       "      <th>6</th>\n",
       "      <td>LQD</td>\n",
       "      <td>0.00539</td>\n",
       "      <td>0.02858</td>\n",
       "      <td>0.125</td>\n",
       "      <td>0.188593</td>\n",
       "    </tr>\n",
       "    <tr>\n",
       "      <th>7</th>\n",
       "      <td>GLD</td>\n",
       "      <td>0.01462</td>\n",
       "      <td>0.06016</td>\n",
       "      <td>0.125</td>\n",
       "      <td>0.243019</td>\n",
       "    </tr>\n",
       "  </tbody>\n",
       "</table>\n",
       "</div>"
      ],
      "text/plain": [
       "  name  exp_ret  std_dev  weights  sharpe_ratio\n",
       "0  SPY -0.00033  0.05465    0.125     -0.006038\n",
       "1  MDY  0.00235  0.06544    0.125      0.035911\n",
       "2  SLY  0.00228  0.07204    0.125      0.031649\n",
       "3  EFA -0.00439  0.06946    0.125     -0.063202\n",
       "4  EEM  0.00124  0.08707    0.125      0.014241\n",
       "5  TLT  0.00818  0.04594    0.125      0.178058\n",
       "6  LQD  0.00539  0.02858    0.125      0.188593\n",
       "7  GLD  0.01462  0.06016    0.125      0.243019"
      ]
     },
     "execution_count": 45,
     "metadata": {},
     "output_type": "execute_result"
    }
   ],
   "source": [
    "# licze sharpe ratio\n",
    "# to jest tabelka dokładnie taka jak w filmie\n",
    "portfolio['sharpe_ratio'] = portfolio['exp_ret'] / portfolio['std_dev']\n",
    "portfolio"
   ]
  },
  {
   "cell_type": "code",
   "execution_count": 46,
   "id": "9f1d28c6",
   "metadata": {},
   "outputs": [
    {
     "data": {
      "text/plain": [
       "0.01462"
      ]
     },
     "execution_count": 46,
     "metadata": {},
     "output_type": "execute_result"
    }
   ],
   "source": [
    "# 3 wartości których potrzebuję potem w solverze\n",
    "maximum_expected_return = max(portfolio['exp_ret'])\n",
    "maximum_expected_return"
   ]
  },
  {
   "cell_type": "code",
   "execution_count": 47,
   "id": "73d89561",
   "metadata": {},
   "outputs": [
    {
     "data": {
      "text/plain": [
       "0.02858"
      ]
     },
     "execution_count": 47,
     "metadata": {},
     "output_type": "execute_result"
    }
   ],
   "source": [
    "minimum_standard_deviation = min(portfolio['std_dev'])\n",
    "minimum_standard_deviation"
   ]
  },
  {
   "cell_type": "code",
   "execution_count": 48,
   "id": "77eebc18",
   "metadata": {},
   "outputs": [
    {
     "data": {
      "text/plain": [
       "0.24301861702127658"
      ]
     },
     "execution_count": 48,
     "metadata": {},
     "output_type": "execute_result"
    }
   ],
   "source": [
    "maximum_sharpe_ratio = max(portfolio['sharpe_ratio'])\n",
    "maximum_sharpe_ratio"
   ]
  },
  {
   "cell_type": "code",
   "execution_count": 49,
   "id": "7bfbd1bd",
   "metadata": {},
   "outputs": [
    {
     "data": {
      "text/html": [
       "<div>\n",
       "<style scoped>\n",
       "    .dataframe tbody tr th:only-of-type {\n",
       "        vertical-align: middle;\n",
       "    }\n",
       "\n",
       "    .dataframe tbody tr th {\n",
       "        vertical-align: top;\n",
       "    }\n",
       "\n",
       "    .dataframe thead th {\n",
       "        text-align: right;\n",
       "    }\n",
       "</style>\n",
       "<table border=\"1\" class=\"dataframe\">\n",
       "  <thead>\n",
       "    <tr style=\"text-align: right;\">\n",
       "      <th></th>\n",
       "      <th>SPY</th>\n",
       "      <th>MDY</th>\n",
       "      <th>SLY</th>\n",
       "      <th>EFA</th>\n",
       "      <th>EEM</th>\n",
       "      <th>TLT</th>\n",
       "      <th>LQD</th>\n",
       "      <th>GLD</th>\n",
       "    </tr>\n",
       "  </thead>\n",
       "  <tbody>\n",
       "    <tr>\n",
       "      <th>0</th>\n",
       "      <td>0.002987</td>\n",
       "      <td>0.003433</td>\n",
       "      <td>0.003759</td>\n",
       "      <td>0.003552</td>\n",
       "      <td>0.004195</td>\n",
       "      <td>-0.000690</td>\n",
       "      <td>0.000566</td>\n",
       "      <td>0.000345</td>\n",
       "    </tr>\n",
       "    <tr>\n",
       "      <th>1</th>\n",
       "      <td>0.003433</td>\n",
       "      <td>0.004282</td>\n",
       "      <td>0.004645</td>\n",
       "      <td>0.004051</td>\n",
       "      <td>0.005018</td>\n",
       "      <td>-0.000980</td>\n",
       "      <td>0.000624</td>\n",
       "      <td>0.000498</td>\n",
       "    </tr>\n",
       "    <tr>\n",
       "      <th>2</th>\n",
       "      <td>0.003759</td>\n",
       "      <td>0.004645</td>\n",
       "      <td>0.005190</td>\n",
       "      <td>0.004387</td>\n",
       "      <td>0.005371</td>\n",
       "      <td>-0.001040</td>\n",
       "      <td>0.000662</td>\n",
       "      <td>0.000352</td>\n",
       "    </tr>\n",
       "    <tr>\n",
       "      <th>3</th>\n",
       "      <td>0.003552</td>\n",
       "      <td>0.004051</td>\n",
       "      <td>0.004387</td>\n",
       "      <td>0.004824</td>\n",
       "      <td>0.005585</td>\n",
       "      <td>-0.000570</td>\n",
       "      <td>0.000899</td>\n",
       "      <td>0.000767</td>\n",
       "    </tr>\n",
       "    <tr>\n",
       "      <th>4</th>\n",
       "      <td>0.004195</td>\n",
       "      <td>0.005018</td>\n",
       "      <td>0.005371</td>\n",
       "      <td>0.005585</td>\n",
       "      <td>0.007582</td>\n",
       "      <td>-0.001080</td>\n",
       "      <td>0.000921</td>\n",
       "      <td>0.001528</td>\n",
       "    </tr>\n",
       "    <tr>\n",
       "      <th>5</th>\n",
       "      <td>-0.000690</td>\n",
       "      <td>-0.000980</td>\n",
       "      <td>-0.001040</td>\n",
       "      <td>-0.000570</td>\n",
       "      <td>-0.001080</td>\n",
       "      <td>0.002111</td>\n",
       "      <td>0.000516</td>\n",
       "      <td>0.000425</td>\n",
       "    </tr>\n",
       "    <tr>\n",
       "      <th>6</th>\n",
       "      <td>0.000566</td>\n",
       "      <td>0.000624</td>\n",
       "      <td>0.000662</td>\n",
       "      <td>0.000899</td>\n",
       "      <td>0.000921</td>\n",
       "      <td>0.000516</td>\n",
       "      <td>0.000817</td>\n",
       "      <td>0.000291</td>\n",
       "    </tr>\n",
       "    <tr>\n",
       "      <th>7</th>\n",
       "      <td>0.000345</td>\n",
       "      <td>0.000498</td>\n",
       "      <td>0.000352</td>\n",
       "      <td>0.000767</td>\n",
       "      <td>0.001528</td>\n",
       "      <td>0.000425</td>\n",
       "      <td>0.000291</td>\n",
       "      <td>0.003619</td>\n",
       "    </tr>\n",
       "  </tbody>\n",
       "</table>\n",
       "</div>"
      ],
      "text/plain": [
       "        SPY       MDY       SLY       EFA       EEM       TLT       LQD  \\\n",
       "0  0.002987  0.003433  0.003759  0.003552  0.004195 -0.000690  0.000566   \n",
       "1  0.003433  0.004282  0.004645  0.004051  0.005018 -0.000980  0.000624   \n",
       "2  0.003759  0.004645  0.005190  0.004387  0.005371 -0.001040  0.000662   \n",
       "3  0.003552  0.004051  0.004387  0.004824  0.005585 -0.000570  0.000899   \n",
       "4  0.004195  0.005018  0.005371  0.005585  0.007582 -0.001080  0.000921   \n",
       "5 -0.000690 -0.000980 -0.001040 -0.000570 -0.001080  0.002111  0.000516   \n",
       "6  0.000566  0.000624  0.000662  0.000899  0.000921  0.000516  0.000817   \n",
       "7  0.000345  0.000498  0.000352  0.000767  0.001528  0.000425  0.000291   \n",
       "\n",
       "        GLD  \n",
       "0  0.000345  \n",
       "1  0.000498  \n",
       "2  0.000352  \n",
       "3  0.000767  \n",
       "4  0.001528  \n",
       "5  0.000425  \n",
       "6  0.000291  \n",
       "7  0.003619  "
      ]
     },
     "execution_count": 49,
     "metadata": {},
     "output_type": "execute_result"
    }
   ],
   "source": [
    "# macierz kowariancji taka jak w filmiku\n",
    "# tak, przepisywałam to wszystko XD\n",
    "covariance_matrix = pd.read_csv('film_kowariancja.txt', names=['SPY','MDY','SLY','EFA','EEM','TLT','LQD','GLD'])\n",
    "covariance_matrix"
   ]
  },
  {
   "cell_type": "code",
   "execution_count": 50,
   "id": "1e90bd44",
   "metadata": {
    "scrolled": true
   },
   "outputs": [
    {
     "data": {
      "text/plain": [
       "array([[ 0.002987,  0.003433,  0.003759,  0.003552,  0.004195, -0.00069 ,\n",
       "         0.000566,  0.000345],\n",
       "       [ 0.003433,  0.004282,  0.004645,  0.004051,  0.005018, -0.00098 ,\n",
       "         0.000624,  0.000498],\n",
       "       [ 0.003759,  0.004645,  0.00519 ,  0.004387,  0.005371, -0.00104 ,\n",
       "         0.000662,  0.000352],\n",
       "       [ 0.003552,  0.004051,  0.004387,  0.004824,  0.005585, -0.00057 ,\n",
       "         0.000899,  0.000767],\n",
       "       [ 0.004195,  0.005018,  0.005371,  0.005585,  0.007582, -0.00108 ,\n",
       "         0.000921,  0.001528],\n",
       "       [-0.00069 , -0.00098 , -0.00104 , -0.00057 , -0.00108 ,  0.002111,\n",
       "         0.000516,  0.000425],\n",
       "       [ 0.000566,  0.000624,  0.000662,  0.000899,  0.000921,  0.000516,\n",
       "         0.000817,  0.000291],\n",
       "       [ 0.000345,  0.000498,  0.000352,  0.000767,  0.001528,  0.000425,\n",
       "         0.000291,  0.003619]])"
      ]
     },
     "execution_count": 50,
     "metadata": {},
     "output_type": "execute_result"
    }
   ],
   "source": [
    "# zmieniam se tylko format tej tabelki na brzydszy nampajowy\n",
    "covariance_matrix = covariance_matrix.to_numpy()\n",
    "covariance_matrix"
   ]
  },
  {
   "cell_type": "code",
   "execution_count": 51,
   "id": "90e4bc3b",
   "metadata": {},
   "outputs": [
    {
     "data": {
      "text/plain": [
       "array([0.125, 0.125, 0.125, 0.125, 0.125, 0.125, 0.125, 0.125])"
      ]
     },
     "execution_count": 51,
     "metadata": {},
     "output_type": "execute_result"
    }
   ],
   "source": [
    "# kolumnę weights też potrzebuję w formacie numpy żeby policzyć reszte rzeczy\n",
    "weights = portfolio['weights'].to_numpy()\n",
    "weights"
   ]
  },
  {
   "cell_type": "markdown",
   "id": "6601560c",
   "metadata": {},
   "source": [
    "#### w tych 3 komórkach poniżej sprawdzam tylko czy dobrze liczę, odpowiednie funkcje do liczenia tych rzeczy są niżej"
   ]
  },
  {
   "cell_type": "code",
   "execution_count": 52,
   "id": "202074e8",
   "metadata": {},
   "outputs": [
    {
     "data": {
      "text/plain": [
       "0.0036674999999999998"
      ]
     },
     "execution_count": 52,
     "metadata": {},
     "output_type": "execute_result"
    }
   ],
   "source": [
    "# oczekiwany zwrot z portfolio\n",
    "portfolio_exp_return = np.matmul(portfolio['exp_ret'], portfolio['weights'])\n",
    "portfolio_exp_return"
   ]
  },
  {
   "cell_type": "code",
   "execution_count": 53,
   "id": "d625e0bf",
   "metadata": {},
   "outputs": [
    {
     "data": {
      "text/plain": [
       "0.04462902642899574"
      ]
     },
     "execution_count": 53,
     "metadata": {},
     "output_type": "execute_result"
    }
   ],
   "source": [
    "# odchylenie standardowe portfolio\n",
    "portfolio_std_deviation = np.sqrt(np.matmul(np.matmul(weights, covariance_matrix), weights))\n",
    "portfolio_std_deviation"
   ]
  },
  {
   "cell_type": "code",
   "execution_count": 54,
   "id": "6b9548b0",
   "metadata": {},
   "outputs": [
    {
     "data": {
      "text/plain": [
       "0.08217745923350915"
      ]
     },
     "execution_count": 54,
     "metadata": {},
     "output_type": "execute_result"
    }
   ],
   "source": [
    "# sharpe ratio dla całego portfolio\n",
    "portfolio_sharpe_ratio = portfolio_exp_return / portfolio_std_deviation\n",
    "portfolio_sharpe_ratio"
   ]
  },
  {
   "cell_type": "markdown",
   "id": "cf4e1c6a",
   "metadata": {},
   "source": [
    "### okej, wszystko do tego momentu śmiga jak trzeba"
   ]
  },
  {
   "cell_type": "code",
   "execution_count": 55,
   "id": "27ee43c8",
   "metadata": {},
   "outputs": [],
   "source": [
    "import scipy.optimize as opt"
   ]
  },
  {
   "cell_type": "code",
   "execution_count": 56,
   "id": "668a398a",
   "metadata": {},
   "outputs": [],
   "source": [
    "# funkcja która liczy na raz odchylenie standardowe portfolio w zależności od wag\n",
    "# covariance_matrix musi być zmienną globalną\n",
    "def get_portfolio_std_deviation(weights):\n",
    "    portfolio_std_deviation = np.sqrt(np.matmul(np.matmul(weights, covariance_matrix), weights))\n",
    "    return portfolio_std_deviation"
   ]
  },
  {
   "cell_type": "code",
   "execution_count": 57,
   "id": "54b1cba6",
   "metadata": {},
   "outputs": [
    {
     "data": {
      "text/plain": [
       "0.04462902642899574"
      ]
     },
     "execution_count": 57,
     "metadata": {},
     "output_type": "execute_result"
    }
   ],
   "source": [
    "get_portfolio_std_deviation(weights)"
   ]
  },
  {
   "cell_type": "code",
   "execution_count": 58,
   "id": "a8ef845a",
   "metadata": {},
   "outputs": [],
   "source": [
    "exp_returns = portfolio['exp_ret'].to_numpy()"
   ]
  },
  {
   "cell_type": "code",
   "execution_count": 59,
   "id": "834d0a7b",
   "metadata": {},
   "outputs": [],
   "source": [
    "# funkcja która liczy na raz oczekiwany zwrot z portfolio w zależności od wag\n",
    "# exp_returns musi być zmienną globalną\n",
    "def get_portfolio_exp_return(weights):\n",
    "    portfolio_exp_return = np.matmul(exp_returns, weights)\n",
    "    return portfolio_exp_return"
   ]
  },
  {
   "cell_type": "code",
   "execution_count": 60,
   "id": "ff58fddd",
   "metadata": {},
   "outputs": [
    {
     "data": {
      "text/plain": [
       "0.0036674999999999998"
      ]
     },
     "execution_count": 60,
     "metadata": {},
     "output_type": "execute_result"
    }
   ],
   "source": [
    "get_portfolio_exp_return(weights)"
   ]
  },
  {
   "cell_type": "code",
   "execution_count": 61,
   "id": "78471a75",
   "metadata": {},
   "outputs": [],
   "source": [
    "# funkcja która liczy na raz sharpe ratio całego portfolio w zależności od wag\n",
    "# covariance_matrix musi być zmienną globalną\n",
    "def get_portfolio_sharpe_ratio(weights):\n",
    "    portfolio_sharpe_ratio = np.matmul(exp_returns, weights) / np.sqrt(np.matmul(np.matmul(weights, covariance_matrix), weights))\n",
    "    return portfolio_sharpe_ratio"
   ]
  },
  {
   "cell_type": "code",
   "execution_count": 62,
   "id": "326a9780",
   "metadata": {},
   "outputs": [
    {
     "data": {
      "text/plain": [
       "0.08217745923350915"
      ]
     },
     "execution_count": 62,
     "metadata": {},
     "output_type": "execute_result"
    }
   ],
   "source": [
    "get_portfolio_sharpe_ratio(weights)"
   ]
  },
  {
   "cell_type": "markdown",
   "id": "7121277a",
   "metadata": {},
   "source": [
    "### Optymalizacja z 2 kolumny (nazwanej w filmiku Max Ret):\n",
    "##### maksymalizuję expected return przy utrzymaniu najniższego standard deviation jakie było w portfolio"
   ]
  },
  {
   "cell_type": "code",
   "execution_count": 63,
   "id": "e74bcb82",
   "metadata": {},
   "outputs": [],
   "source": [
    "# ograniczenie, że liczba akcji\n",
    "# (dokładniej wagi czyli stosunek wartości akcji względem wartości całego portfolio) \n",
    "# nie może być ujemna\n",
    "# to ograniczenie stosuję we wszystkich 3 typach optymalizacji\n",
    "bnds = ((0, None), (0, None), (0, None), (0, None), (0, None), (0, None), (0, None), (0, None))"
   ]
  },
  {
   "cell_type": "code",
   "execution_count": 64,
   "id": "75c6481a",
   "metadata": {},
   "outputs": [],
   "source": [
    "# ograniczenie, że wszytskie wagi razem wzięte muszą wynosić 1 (100%)\n",
    "# ograniczenie że portfolio std deviation ma pozostać nie większe, niż było w portfolio\n",
    "# get_portfolio_std_deviation <= minimum_standard_deviation\n",
    "# minimum_standard_deviation - get_portfolio_std_deviation >= 0\n",
    "\n",
    "cons = ({'type': 'eq', 'fun': lambda x:  sum(x) - 1},\n",
    "        {'type': 'ineq', 'fun': lambda x: minimum_standard_deviation - get_portfolio_std_deviation(x)})"
   ]
  },
  {
   "cell_type": "code",
   "execution_count": null,
   "id": "95d30594",
   "metadata": {},
   "outputs": [],
   "source": [
    "result = opt.minimize(get_portfolio_exp_return, weights, bounds=bnds, constraints=cons)\n",
    "result"
   ]
  },
  {
   "cell_type": "markdown",
   "id": "a03e7f66",
   "metadata": {},
   "source": [
    "### Optymalizacja z 3 kolumny (nazwanej w filmiku Min St Dev):\n",
    "##### minimalizuję std deviation przy utrzymaniu największego expected return jakie było w portfolio"
   ]
  },
  {
   "cell_type": "code",
   "execution_count": 65,
   "id": "9847f79b",
   "metadata": {},
   "outputs": [],
   "source": [
    "# ograniczenie, że wszytskie wagi razem wzięte muszą wynosić 1 (100%)\n",
    "# ograniczenie że portfolio expected return ma pozostać nie mniejsze, niż było w portfolio\n",
    "# get_portfolio_exp_return >= maximum_expected_return\n",
    "# get_portfolio_exp_return - maximum_expected_return >= 0\n",
    "\n",
    "cons = ({'type': 'eq', 'fun': lambda x:  sum(x) - 1},\n",
    "        {'type': 'ineq', 'fun': lambda x: get_portfolio_exp_return(x) - maximum_expected_return})"
   ]
  },
  {
   "cell_type": "code",
   "execution_count": 69,
   "id": "588f7b59",
   "metadata": {
    "scrolled": true
   },
   "outputs": [
    {
     "data": {
      "text/plain": [
       "     fun: 0.03160353805956241\n",
       "     jac: array([-0.00033831,  0.0054703 ,  0.00524215, -0.0090188 ,  0.00309087,\n",
       "        0.0178373 ,  0.01183114,  0.03154177])\n",
       " message: 'Optimization terminated successfully'\n",
       "    nfev: 270\n",
       "     nit: 30\n",
       "    njev: 30\n",
       "  status: 0\n",
       " success: True\n",
       "       x: array([ 0.41892481,  0.25630426,  0.14996734, -1.12117757,  0.24361838,\n",
       "        0.22786209,  0.57726585,  0.24723485])"
      ]
     },
     "execution_count": 69,
     "metadata": {},
     "output_type": "execute_result"
    }
   ],
   "source": [
    "# tutaj działa solver i z ważnych rzeczy wypluwa:\n",
    "# fun: to jest najlepszy wynik funkcji jaki się udało uzyskać, w tym przypadku minimalne std deviation\n",
    "# x: to są wagi dające minimalne std deviation, to jest najważniejsza rzecz u nas\n",
    "#    (mówi co użytkownik ma pozmieniać, żeby uzyskać najlepsze wyniki)\n",
    "result = opt.minimize(get_portfolio_std_deviation, weights, constraints=cons)\n",
    "result"
   ]
  },
  {
   "cell_type": "code",
   "execution_count": 70,
   "id": "9c81713e",
   "metadata": {},
   "outputs": [
    {
     "data": {
      "text/plain": [
       "array([ 0.41892481,  0.25630426,  0.14996734, -1.12117757,  0.24361838,\n",
       "        0.22786209,  0.57726585,  0.24723485])"
      ]
     },
     "execution_count": 70,
     "metadata": {},
     "output_type": "execute_result"
    }
   ],
   "source": [
    "# tak się uzyskuje same wagi, żeby potem je gdzieś przekazać czy wyświetlić\n",
    "result.x"
   ]
  },
  {
   "cell_type": "code",
   "execution_count": 71,
   "id": "00c2bd0a",
   "metadata": {},
   "outputs": [
    {
     "data": {
      "text/plain": [
       "0.03160353805956241"
      ]
     },
     "execution_count": 71,
     "metadata": {},
     "output_type": "execute_result"
    }
   ],
   "source": [
    "# a tak wynik\n",
    "result.fun"
   ]
  },
  {
   "cell_type": "code",
   "execution_count": 68,
   "id": "12e1be1b",
   "metadata": {
    "scrolled": true
   },
   "outputs": [
    {
     "data": {
      "text/plain": [
       "1.0"
      ]
     },
     "execution_count": 68,
     "metadata": {},
     "output_type": "execute_result"
    }
   ],
   "source": [
    "# można se też sprawdzić czy wagi fajnie sumują się do 1 (100%)\n",
    "sum(result.x)"
   ]
  },
  {
   "cell_type": "markdown",
   "id": "8d988494",
   "metadata": {},
   "source": [
    "### Optymalizacja z 4 kolumny (nazwanej w filmiku Max SR):\n",
    "##### maksymalizuję sharpe ratio przy utrzymaniu największego expected return i najmniejszego std deviation jakie było w portfolio"
   ]
  }
 ],
 "metadata": {
  "kernelspec": {
   "display_name": "Python 3 (ipykernel)",
   "language": "python",
   "name": "python3"
  },
  "language_info": {
   "codemirror_mode": {
    "name": "ipython",
    "version": 3
   },
   "file_extension": ".py",
   "mimetype": "text/x-python",
   "name": "python",
   "nbconvert_exporter": "python",
   "pygments_lexer": "ipython3",
   "version": "3.8.12"
  }
 },
 "nbformat": 4,
 "nbformat_minor": 5
}
